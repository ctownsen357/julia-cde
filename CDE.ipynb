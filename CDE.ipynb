{
 "cells": [
  {
   "cell_type": "markdown",
   "metadata": {},
   "source": [
    "## CDE Data"
   ]
  },
  {
   "cell_type": "markdown",
   "metadata": {},
   "source": [
    "Exploring FBI Crime Data Explorer (CDE) data with Julia. CDE makes available data reported by many states to the National Incident Based Reporting System (NIBRS). This data represents crime information as reported by participating states.\n",
    "\n",
    "I'm using this data to explore language featues in the Julia programming language."
   ]
  },
  {
   "cell_type": "code",
   "execution_count": 1,
   "metadata": {},
   "outputs": [
    {
     "name": "stderr",
     "output_type": "stream",
     "text": [
      "\u001b[32m\u001b[1m   Updating\u001b[22m\u001b[39m registry at `~/.julia/registries/General`\n",
      "######################################################################### 100.0%\n",
      "\u001b[32m\u001b[1m  Resolving\u001b[22m\u001b[39m package versions...\n",
      "\u001b[32m\u001b[1mNo Changes\u001b[22m\u001b[39m to `~/.julia/environments/v1.5/Project.toml`\n",
      "\u001b[32m\u001b[1mNo Changes\u001b[22m\u001b[39m to `~/.julia/environments/v1.5/Manifest.toml`\n"
     ]
    }
   ],
   "source": [
    "### Add required packages\n",
    "using Pkg\n",
    "Pkg.add(\"HTTP\")"
   ]
  },
  {
   "cell_type": "code",
   "execution_count": 8,
   "metadata": {},
   "outputs": [
    {
     "data": {
      "text/plain": [
       "6-element Array{Base.Process,1}:\n",
       " Process(`\u001b[4mmkdir\u001b[24m \u001b[4m-p\u001b[24m \u001b[4m./2016/VA\u001b[24m`, ProcessExited(0))\n",
       " Process(`\u001b[4mmkdir\u001b[24m \u001b[4m-p\u001b[24m \u001b[4m./2017/VA\u001b[24m`, ProcessExited(0))\n",
       " Process(`\u001b[4mmkdir\u001b[24m \u001b[4m-p\u001b[24m \u001b[4m./2018/VA\u001b[24m`, ProcessExited(0))\n",
       " Process(`\u001b[4mmkdir\u001b[24m \u001b[4m-p\u001b[24m \u001b[4m./2016/AL\u001b[24m`, ProcessExited(0))\n",
       " Process(`\u001b[4mmkdir\u001b[24m \u001b[4m-p\u001b[24m \u001b[4m./2017/AL\u001b[24m`, ProcessExited(0))\n",
       " Process(`\u001b[4mmkdir\u001b[24m \u001b[4m-p\u001b[24m \u001b[4m./2018/AL\u001b[24m`, ProcessExited(0))"
      ]
     },
     "execution_count": 8,
     "metadata": {},
     "output_type": "execute_result"
    }
   ],
   "source": [
    "using HTTP\n",
    "#using Distributed\n",
    "using JuliaDB\n",
    "#addprocs()\n",
    "using Dates\n",
    "# states = [\"AL\", \"AZ\", \"AR\", \"CO\", \"CT\", \"DE\", \"DC\", \"ID\", \"IL\", \"IN\", \"IA\", \"KS\", \"KY\", \"LA\", \"ME\", \"MA\", \"MI\", \"MO\", \"MT\", \"NE\", \"NH\", \"ND\", \"OH\", \"OK\", \"OR\", \"PA\",\"RI\", \"SC\", \"SD\", \"TN\", \"TX\", \"UT\", \"VT\", \"VA\", \"WA\", \"WV\", \"WI\"]\n",
    "# had a run where I downloaded all of the participating states for performance but I'm concentrating on a couple of states to make things easier\n",
    "states = [\"VA\", \"AL\"]\n",
    "years = [2016:2018;]\n",
    "dirs_to_make = reduce(append!,\n",
    "        map(state -> \n",
    "            map(year -> string(\"./\", year, \"/\", state), years)\n",
    "            , states)\n",
    "        )\n",
    "\n",
    "dirs_to_make\n",
    "\n",
    "map(dir -> run(`mkdir -p $dir`), dirs_to_make)"
   ]
  },
  {
   "cell_type": "code",
   "execution_count": 9,
   "metadata": {},
   "outputs": [
    {
     "name": "stderr",
     "output_type": "stream",
     "text": [
      "┌ Info: Downloading\n",
      "│   source = http://s3-us-gov-west-1.amazonaws.com/cg-d4b776d0-d898-4153-90c8-8336f86bdfec/2016/VA-2016.zip\n",
      "│   dest = /Users/christownsend/projects/julia-cde/2016/VA-2016.zip\n",
      "│   progress = 0.1309\n",
      "│   time_taken = 1.0 s\n",
      "│   time_remaining = 6.65 s\n",
      "│   average_speed = 3.966 MiB/s\n",
      "│   downloaded = 3.970 MiB\n",
      "│   remaining = 26.370 MiB\n",
      "│   total = 30.340 MiB\n",
      "└ @ HTTP /Users/christownsend/.julia/packages/HTTP/atT5q/src/download.jl:119\n",
      "┌ Info: Downloading\n",
      "│   source = http://s3-us-gov-west-1.amazonaws.com/cg-d4b776d0-d898-4153-90c8-8336f86bdfec/2016/VA-2016.zip\n",
      "│   dest = /Users/christownsend/projects/julia-cde/2016/VA-2016.zip\n",
      "│   progress = 0.3602\n",
      "│   time_taken = 2.0 s\n",
      "│   time_remaining = 3.56 s\n",
      "│   average_speed = 5.457 MiB/s\n",
      "│   downloaded = 10.929 MiB\n",
      "│   remaining = 19.410 MiB\n",
      "│   total = 30.340 MiB\n",
      "└ @ HTTP /Users/christownsend/.julia/packages/HTTP/atT5q/src/download.jl:119\n",
      "┌ Info: Downloading\n",
      "│   source = http://s3-us-gov-west-1.amazonaws.com/cg-d4b776d0-d898-4153-90c8-8336f86bdfec/2016/VA-2016.zip\n",
      "│   dest = /Users/christownsend/projects/julia-cde/2016/VA-2016.zip\n",
      "│   progress = 0.639\n",
      "│   time_taken = 3.0 s\n",
      "│   time_remaining = 1.7 s\n",
      "│   average_speed = 6.454 MiB/s\n",
      "│   downloaded = 19.388 MiB\n",
      "│   remaining = 10.951 MiB\n",
      "│   total = 30.340 MiB\n",
      "└ @ HTTP /Users/christownsend/.julia/packages/HTTP/atT5q/src/download.jl:119\n",
      "┌ Info: Downloading\n",
      "│   source = http://s3-us-gov-west-1.amazonaws.com/cg-d4b776d0-d898-4153-90c8-8336f86bdfec/2016/VA-2016.zip\n",
      "│   dest = /Users/christownsend/projects/julia-cde/2016/VA-2016.zip\n",
      "│   progress = 0.9169\n",
      "│   time_taken = 4.0 s\n",
      "│   time_remaining = 0.36 s\n",
      "│   average_speed = 6.946 MiB/s\n",
      "│   downloaded = 27.820 MiB\n",
      "│   remaining = 2.520 MiB\n",
      "│   total = 30.340 MiB\n",
      "└ @ HTTP /Users/christownsend/.julia/packages/HTTP/atT5q/src/download.jl:119\n",
      "┌ Info: Downloading\n",
      "│   source = http://s3-us-gov-west-1.amazonaws.com/cg-d4b776d0-d898-4153-90c8-8336f86bdfec/2016/VA-2016.zip\n",
      "│   dest = /Users/christownsend/projects/julia-cde/2016/VA-2016.zip\n",
      "│   progress = 1.0\n",
      "│   time_taken = 4.31 s\n",
      "│   time_remaining = 0.0 s\n",
      "│   average_speed = 7.043 MiB/s\n",
      "│   downloaded = 30.340 MiB\n",
      "│   remaining = 0 bytes\n",
      "│   total = 30.340 MiB\n",
      "└ @ HTTP /Users/christownsend/.julia/packages/HTTP/atT5q/src/download.jl:119\n"
     ]
    },
    {
     "name": "stdout",
     "output_type": "stream",
     "text": [
      "Archive:  /Users/christownsend/projects/julia-cde/2016/VA-2016.zip\n",
      "  inflating: VA/agencies.csv         \n",
      "  inflating: VA/NIBRS_ACTIVITY_TYPE.csv  \n",
      "  inflating: VA/NIBRS_AGE.csv        \n",
      "  inflating: VA/NIBRS_ARRESTEE.csv   \n",
      "  inflating: VA/NIBRS_ARRESTEE_WEAPON.csv  \n",
      "  inflating: VA/NIBRS_ARREST_TYPE.csv  \n",
      "  inflating: VA/NIBRS_ASSIGNMENT_TYPE.csv  \n",
      "  inflating: VA/NIBRS_BIAS_LIST.csv  \n",
      "  inflating: VA/NIBRS_BIAS_MOTIVATION.csv  \n",
      "  inflating: VA/NIBRS_CIRCUMSTANCES.csv  \n",
      "  inflating: VA/NIBRS_CLEARED_EXCEPT.csv  \n",
      "  inflating: VA/NIBRS_CRIMINAL_ACT.csv  \n",
      "  inflating: VA/NIBRS_CRIMINAL_ACT_TYPE.csv  \n",
      "  inflating: VA/NIBRS_DRUG_MEASURE_TYPE.csv  \n",
      "  inflating: VA/NIBRS_ETHNICITY.csv  \n",
      "  inflating: VA/NIBRS_incident.csv   \n",
      "  inflating: VA/NIBRS_INJURY.csv     \n",
      "  inflating: VA/NIBRS_JUSTIFIABLE_FORCE.csv  \n",
      "  inflating: VA/NIBRS_LOCATION_TYPE.csv  \n",
      "  inflating: VA/NIBRS_month.csv      \n",
      "  inflating: VA/NIBRS_OFFENDER.csv   \n",
      "  inflating: VA/NIBRS_OFFENSE.csv    \n",
      "  inflating: VA/NIBRS_OFFENSE_TYPE.csv  \n",
      "  inflating: VA/NIBRS_PROPERTY.csv   \n",
      "  inflating: VA/NIBRS_PROPERTY_DESC.csv  \n",
      "  inflating: VA/NIBRS_PROP_DESC_TYPE.csv  \n",
      "  inflating: VA/NIBRS_PROP_LOSS_TYPE.csv  \n",
      "  inflating: VA/NIBRS_RELATIONSHIP.csv  \n",
      "  inflating: VA/NIBRS_SUSPECTED_DRUG.csv  \n",
      "  inflating: VA/NIBRS_SUSPECTED_DRUG_TYPE.csv  \n",
      "  inflating: VA/NIBRS_SUSPECT_USING.csv  \n",
      "  inflating: VA/NIBRS_USING_LIST.csv  \n",
      "  inflating: VA/NIBRS_VICTIM.csv     \n",
      "  inflating: VA/NIBRS_VICTIM_CIRCUMSTANCES.csv  \n",
      "  inflating: VA/NIBRS_VICTIM_INJURY.csv  \n",
      "  inflating: VA/NIBRS_VICTIM_OFFENDER_REL.csv  \n",
      "  inflating: VA/NIBRS_VICTIM_OFFENSE.csv  \n",
      "  inflating: VA/NIBRS_VICTIM_TYPE.csv  \n",
      "  inflating: VA/NIBRS_WEAPON.csv     \n",
      "  inflating: VA/NIBRS_WEAPON_TYPE.csv  \n",
      "  inflating: VA/REF_RACE.csv         \n",
      "  inflating: VA/REF_STATE.csv        \n",
      "  inflating: VA/nibrs_diagram.pdf    \n",
      "  inflating: VA/postgres_load.sql    \n",
      "  inflating: VA/postgres_setup.sql   \n",
      "  inflating: VA/README.md            \n",
      "Archive:  /Users/christownsend/projects/julia-cde/2016/AL-2016.zip\n",
      "  inflating: AL/agencies.csv         \n",
      "  inflating: AL/NIBRS_ACTIVITY_TYPE.csv  \n",
      "  inflating: AL/NIBRS_AGE.csv        \n",
      "  inflating: AL/NIBRS_ARRESTEE.csv   \n",
      "  inflating: AL/NIBRS_ARRESTEE_WEAPON.csv  \n",
      "  inflating: AL/NIBRS_ARREST_TYPE.csv  \n",
      "  inflating: AL/NIBRS_ASSIGNMENT_TYPE.csv  \n",
      "  inflating: AL/NIBRS_BIAS_LIST.csv  \n",
      "  inflating: AL/NIBRS_BIAS_MOTIVATION.csv  \n",
      "  inflating: AL/NIBRS_CIRCUMSTANCES.csv  \n",
      "  inflating: AL/NIBRS_CLEARED_EXCEPT.csv  \n",
      "  inflating: AL/NIBRS_CRIMINAL_ACT.csv  \n",
      "  inflating: AL/NIBRS_CRIMINAL_ACT_TYPE.csv  \n",
      "  inflating: AL/NIBRS_DRUG_MEASURE_TYPE.csv  \n",
      "  inflating: AL/NIBRS_ETHNICITY.csv  \n",
      "  inflating: AL/NIBRS_incident.csv   \n",
      "  inflating: AL/NIBRS_INJURY.csv     \n",
      "  inflating: AL/NIBRS_JUSTIFIABLE_FORCE.csv  \n",
      "  inflating: AL/NIBRS_LOCATION_TYPE.csv  \n",
      "  inflating: AL/NIBRS_month.csv      \n",
      "  inflating: AL/NIBRS_OFFENDER.csv   \n",
      "  inflating: AL/NIBRS_OFFENSE.csv    \n",
      "  inflating: AL/NIBRS_OFFENSE_TYPE.csv  \n",
      "  inflating: AL/NIBRS_PROPERTY.csv   \n",
      "  inflating: AL/NIBRS_PROPERTY_DESC.csv  \n",
      "  inflating: AL/NIBRS_PROP_DESC_TYPE.csv  \n",
      "  inflating: AL/NIBRS_PROP_LOSS_TYPE.csv  \n",
      "  inflating: AL/NIBRS_RELATIONSHIP.csv  \n",
      "  inflating: AL/NIBRS_SUSPECTED_DRUG.csv  \n",
      "  inflating: AL/NIBRS_SUSPECTED_DRUG_TYPE.csv  \n",
      "  inflating: AL/NIBRS_SUSPECT_USING.csv  \n",
      "  inflating: AL/NIBRS_USING_LIST.csv  \n",
      "  inflating: AL/NIBRS_VICTIM.csv     \n",
      "  inflating: AL/NIBRS_VICTIM_CIRCUMSTANCES.csv  \n",
      "  inflating: AL/NIBRS_VICTIM_INJURY.csv  \n",
      "  inflating: AL/NIBRS_VICTIM_OFFENDER_REL.csv  \n",
      "  inflating: AL/NIBRS_VICTIM_OFFENSE.csv  \n",
      "  inflating: AL/NIBRS_VICTIM_TYPE.csv  \n",
      "  inflating: AL/NIBRS_WEAPON.csv     \n",
      "  inflating: AL/NIBRS_WEAPON_TYPE.csv  \n",
      "  inflating: AL/REF_RACE.csv         \n",
      "  inflating: AL/REF_STATE.csv        \n",
      "  inflating: AL/nibrs_diagram.pdf    \n",
      "  inflating: AL/postgres_load.sql    \n",
      "  inflating: AL/postgres_setup.sql   \n",
      "  inflating: AL/README.md            \n"
     ]
    },
    {
     "name": "stderr",
     "output_type": "stream",
     "text": [
      "┌ Info: Downloading\n",
      "│   source = http://s3-us-gov-west-1.amazonaws.com/cg-d4b776d0-d898-4153-90c8-8336f86bdfec/2016/AL-2016.zip\n",
      "│   dest = /Users/christownsend/projects/julia-cde/2016/AL-2016.zip\n",
      "│   progress = 1.0\n",
      "│   time_taken = 0.0 s\n",
      "│   time_remaining = 0.0 s\n",
      "│   average_speed = 341.679 MiB/s\n",
      "│   downloaded = 349.879 KiB\n",
      "│   remaining = 0 bytes\n",
      "│   total = 349.879 KiB\n",
      "└ @ HTTP /Users/christownsend/.julia/packages/HTTP/atT5q/src/download.jl:119\n",
      "┌ Info: Downloading\n",
      "│   source = http://s3-us-gov-west-1.amazonaws.com/cg-d4b776d0-d898-4153-90c8-8336f86bdfec/2017/VA-2017.zip\n",
      "│   dest = /Users/christownsend/projects/julia-cde/2017/VA-2017.zip\n",
      "│   progress = 0.1822\n",
      "│   time_taken = 1.07 s\n",
      "│   time_remaining = 4.8 s\n",
      "│   average_speed = 6.015 MiB/s\n",
      "│   downloaded = 6.430 MiB\n",
      "│   remaining = 28.866 MiB\n",
      "│   total = 35.296 MiB\n",
      "└ @ HTTP /Users/christownsend/.julia/packages/HTTP/atT5q/src/download.jl:119\n",
      "┌ Info: Downloading\n",
      "│   source = http://s3-us-gov-west-1.amazonaws.com/cg-d4b776d0-d898-4153-90c8-8336f86bdfec/2017/VA-2017.zip\n",
      "│   dest = /Users/christownsend/projects/julia-cde/2017/VA-2017.zip\n",
      "│   progress = 0.3815\n",
      "│   time_taken = 2.1 s\n",
      "│   time_remaining = 3.41 s\n",
      "│   average_speed = 6.406 MiB/s\n",
      "│   downloaded = 13.466 MiB\n",
      "│   remaining = 21.831 MiB\n",
      "│   total = 35.296 MiB\n",
      "└ @ HTTP /Users/christownsend/.julia/packages/HTTP/atT5q/src/download.jl:119\n",
      "┌ Info: Downloading\n",
      "│   source = http://s3-us-gov-west-1.amazonaws.com/cg-d4b776d0-d898-4153-90c8-8336f86bdfec/2017/VA-2017.zip\n",
      "│   dest = /Users/christownsend/projects/julia-cde/2017/VA-2017.zip\n",
      "│   progress = 0.5623\n",
      "│   time_taken = 3.12 s\n",
      "│   time_remaining = 2.43 s\n",
      "│   average_speed = 6.363 MiB/s\n",
      "│   downloaded = 19.848 MiB\n",
      "│   remaining = 15.449 MiB\n",
      "│   total = 35.296 MiB\n",
      "└ @ HTTP /Users/christownsend/.julia/packages/HTTP/atT5q/src/download.jl:119\n",
      "┌ Info: Downloading\n",
      "│   source = http://s3-us-gov-west-1.amazonaws.com/cg-d4b776d0-d898-4153-90c8-8336f86bdfec/2017/VA-2017.zip\n",
      "│   dest = /Users/christownsend/projects/julia-cde/2017/VA-2017.zip\n",
      "│   progress = 0.7728\n",
      "│   time_taken = 4.14 s\n",
      "│   time_remaining = 1.22 s\n",
      "│   average_speed = 6.584 MiB/s\n",
      "│   downloaded = 27.277 MiB\n",
      "│   remaining = 8.020 MiB\n",
      "│   total = 35.296 MiB\n",
      "└ @ HTTP /Users/christownsend/.julia/packages/HTTP/atT5q/src/download.jl:119\n"
     ]
    },
    {
     "name": "stdout",
     "output_type": "stream",
     "text": [
      "Archive:  /Users/christownsend/projects/julia-cde/2017/VA-2017.zip\n",
      "  inflating: VA/agencies.csv         \n",
      "  inflating: VA/NIBRS_ACTIVITY_TYPE.csv  \n",
      "  inflating: VA/NIBRS_AGE.csv        "
     ]
    },
    {
     "name": "stderr",
     "output_type": "stream",
     "text": [
      "┌ Info: Downloading\n",
      "│   source = http://s3-us-gov-west-1.amazonaws.com/cg-d4b776d0-d898-4153-90c8-8336f86bdfec/2017/VA-2017.zip\n",
      "│   dest = /Users/christownsend/projects/julia-cde/2017/VA-2017.zip\n",
      "│   progress = 1.0\n",
      "│   time_taken = 5.02 s\n",
      "│   time_remaining = 0.0 s\n",
      "│   average_speed = 7.026 MiB/s\n",
      "│   downloaded = 35.296 MiB\n",
      "│   remaining = 0 bytes\n",
      "│   total = 35.296 MiB\n",
      "└ @ HTTP /Users/christownsend/.julia/packages/HTTP/atT5q/src/download.jl:119\n"
     ]
    },
    {
     "name": "stdout",
     "output_type": "stream",
     "text": [
      "\n",
      "  inflating: VA/NIBRS_ARREST_TYPE.csv  \n",
      "  inflating: VA/NIBRS_ARRESTEE.csv   \n",
      "  inflating: VA/NIBRS_ARRESTEE_WEAPON.csv  \n",
      "  inflating: VA/NIBRS_ASSIGNMENT_TYPE.csv  \n",
      "  inflating: VA/NIBRS_BIAS_LIST.csv  \n",
      "  inflating: VA/NIBRS_BIAS_MOTIVATION.csv  \n",
      "  inflating: VA/NIBRS_CIRCUMSTANCES.csv  \n",
      "  inflating: VA/NIBRS_CLEARED_EXCEPT.csv  \n",
      "  inflating: VA/NIBRS_CRIMINAL_ACT.csv  \n",
      "  inflating: VA/NIBRS_CRIMINAL_ACT_TYPE.csv  \n",
      "  inflating: VA/NIBRS_DRUG_MEASURE_TYPE.csv  \n",
      "  inflating: VA/NIBRS_ETHNICITY.csv  \n",
      "  inflating: VA/NIBRS_incident.csv   \n",
      "  inflating: VA/NIBRS_INJURY.csv     \n",
      "  inflating: VA/NIBRS_JUSTIFIABLE_FORCE.csv  \n",
      "  inflating: VA/NIBRS_LOCATION_TYPE.csv  \n",
      "  inflating: VA/NIBRS_month.csv      \n",
      "  inflating: VA/NIBRS_OFFENDER.csv   \n",
      "  inflating: VA/NIBRS_OFFENSE.csv    \n",
      "  inflating: VA/NIBRS_OFFENSE_TYPE.csv  \n",
      "  inflating: VA/NIBRS_PROP_DESC_TYPE.csv  \n",
      "  inflating: VA/NIBRS_PROP_LOSS_TYPE.csv  \n",
      "  inflating: VA/NIBRS_PROPERTY.csv   \n",
      "  inflating: VA/NIBRS_PROPERTY_DESC.csv  \n",
      "  inflating: VA/NIBRS_RELATIONSHIP.csv  \n",
      "  inflating: VA/NIBRS_SUSPECT_USING.csv  \n",
      "  inflating: VA/NIBRS_SUSPECTED_DRUG.csv  \n",
      "  inflating: VA/NIBRS_SUSPECTED_DRUG_TYPE.csv  \n",
      "  inflating: VA/NIBRS_USING_LIST.csv  \n",
      "  inflating: VA/NIBRS_VICTIM.csv     \n",
      "  inflating: VA/NIBRS_VICTIM_CIRCUMSTANCES.csv  \n",
      "  inflating: VA/NIBRS_VICTIM_INJURY.csv  \n",
      "  inflating: VA/NIBRS_VICTIM_OFFENDER_REL.csv  \n",
      "  inflating: VA/NIBRS_VICTIM_OFFENSE.csv  \n",
      "  inflating: VA/NIBRS_VICTIM_TYPE.csv  \n",
      "  inflating: VA/NIBRS_WEAPON.csv     \n",
      "  inflating: VA/NIBRS_WEAPON_TYPE.csv  \n",
      "  inflating: VA/REF_RACE.csv         \n",
      "  inflating: VA/REF_STATE.csv        \n",
      "  inflating: VA/nibrs_diagram.pdf    \n",
      "  inflating: VA/postgres_load.sql    \n",
      "  inflating: VA/postgres_setup.sql   \n",
      "  inflating: VA/README.md            \n",
      "Archive:  /Users/christownsend/projects/julia-cde/2017/AL-2017.zip\n",
      "  inflating: AL/agencies.csv         \n",
      "  inflating: AL/NIBRS_ACTIVITY_TYPE.csv  \n",
      "  inflating: AL/NIBRS_AGE.csv        \n",
      "  inflating: AL/NIBRS_ARREST_TYPE.csv  \n",
      "  inflating: AL/NIBRS_ARRESTEE.csv   \n",
      "  inflating: AL/NIBRS_ARRESTEE_WEAPON.csv  \n",
      "  inflating: AL/NIBRS_ASSIGNMENT_TYPE.csv  \n",
      "  inflating: AL/NIBRS_BIAS_LIST.csv  \n",
      "  inflating: AL/NIBRS_BIAS_MOTIVATION.csv  \n",
      "  inflating: AL/NIBRS_CIRCUMSTANCES.csv  \n",
      "  inflating: AL/NIBRS_CLEARED_EXCEPT.csv  \n",
      "  inflating: AL/NIBRS_CRIMINAL_ACT.csv  \n",
      "  inflating: AL/NIBRS_CRIMINAL_ACT_TYPE.csv  \n",
      "  inflating: AL/NIBRS_DRUG_MEASURE_TYPE.csv  \n",
      "  inflating: AL/NIBRS_ETHNICITY.csv  \n",
      "  inflating: AL/NIBRS_incident.csv   \n",
      "  inflating: AL/NIBRS_INJURY.csv     \n",
      "  inflating: AL/NIBRS_JUSTIFIABLE_FORCE.csv  \n",
      "  inflating: AL/NIBRS_LOCATION_TYPE.csv  \n",
      "  inflating: AL/NIBRS_month.csv      \n",
      "  inflating: AL/NIBRS_OFFENDER.csv   \n",
      "  inflating: AL/NIBRS_OFFENSE.csv    \n",
      "  inflating: AL/NIBRS_OFFENSE_TYPE.csv  \n",
      "  inflating: AL/NIBRS_PROP_DESC_TYPE.csv  "
     ]
    },
    {
     "name": "stderr",
     "output_type": "stream",
     "text": [
      "┌ Info: Downloading\n",
      "│   source = http://s3-us-gov-west-1.amazonaws.com/cg-d4b776d0-d898-4153-90c8-8336f86bdfec/2017/AL-2017.zip\n",
      "│   dest = /Users/christownsend/projects/julia-cde/2017/AL-2017.zip\n",
      "│   progress = 1.0\n",
      "│   time_taken = 0.04 s\n",
      "│   time_remaining = 0.0 s\n",
      "│   average_speed = 8.701 MiB/s\n",
      "│   downloaded = 338.562 KiB\n",
      "│   remaining = 0 bytes\n",
      "│   total = 338.562 KiB\n",
      "└ @ HTTP /Users/christownsend/.julia/packages/HTTP/atT5q/src/download.jl:119\n"
     ]
    },
    {
     "name": "stdout",
     "output_type": "stream",
     "text": [
      "\n",
      "  inflating: AL/NIBRS_PROP_LOSS_TYPE.csv  \n",
      "  inflating: AL/NIBRS_PROPERTY.csv   \n",
      "  inflating: AL/NIBRS_PROPERTY_DESC.csv  \n",
      "  inflating: AL/NIBRS_RELATIONSHIP.csv  \n",
      "  inflating: AL/NIBRS_SUSPECT_USING.csv  \n",
      "  inflating: AL/NIBRS_SUSPECTED_DRUG.csv  \n",
      "  inflating: AL/NIBRS_SUSPECTED_DRUG_TYPE.csv  \n",
      "  inflating: AL/NIBRS_USING_LIST.csv  \n",
      "  inflating: AL/NIBRS_VICTIM.csv     \n",
      "  inflating: AL/NIBRS_VICTIM_CIRCUMSTANCES.csv  \n",
      "  inflating: AL/NIBRS_VICTIM_INJURY.csv  \n",
      "  inflating: AL/NIBRS_VICTIM_OFFENDER_REL.csv  \n",
      "  inflating: AL/NIBRS_VICTIM_OFFENSE.csv  \n",
      "  inflating: AL/NIBRS_VICTIM_TYPE.csv  \n",
      "  inflating: AL/NIBRS_WEAPON.csv     \n",
      "  inflating: AL/NIBRS_WEAPON_TYPE.csv  \n",
      "  inflating: AL/REF_RACE.csv         \n",
      "  inflating: AL/REF_STATE.csv        \n",
      "  inflating: AL/nibrs_diagram.pdf    \n",
      "  inflating: AL/postgres_load.sql    \n",
      "  inflating: AL/postgres_setup.sql   \n",
      "  inflating: AL/README.md            \n"
     ]
    },
    {
     "name": "stderr",
     "output_type": "stream",
     "text": [
      "┌ Info: Downloading\n",
      "│   source = http://s3-us-gov-west-1.amazonaws.com/cg-d4b776d0-d898-4153-90c8-8336f86bdfec/2018/VA-2018.zip\n",
      "│   dest = /Users/christownsend/projects/julia-cde/2018/VA-2018.zip\n",
      "│   progress = 0.2507\n",
      "│   time_taken = 1.0 s\n",
      "│   time_remaining = 2.99 s\n",
      "│   average_speed = 8.481 MiB/s\n",
      "│   downloaded = 8.490 MiB\n",
      "│   remaining = 25.381 MiB\n",
      "│   total = 33.871 MiB\n",
      "└ @ HTTP /Users/christownsend/.julia/packages/HTTP/atT5q/src/download.jl:119\n",
      "┌ Info: Downloading\n",
      "│   source = http://s3-us-gov-west-1.amazonaws.com/cg-d4b776d0-d898-4153-90c8-8336f86bdfec/2018/VA-2018.zip\n",
      "│   dest = /Users/christownsend/projects/julia-cde/2018/VA-2018.zip\n",
      "│   progress = 0.5006\n",
      "│   time_taken = 2.0 s\n",
      "│   time_remaining = 2.0 s\n",
      "│   average_speed = 8.469 MiB/s\n",
      "│   downloaded = 16.954 MiB\n",
      "│   remaining = 16.917 MiB\n",
      "│   total = 33.871 MiB\n",
      "└ @ HTTP /Users/christownsend/.julia/packages/HTTP/atT5q/src/download.jl:119\n",
      "┌ Info: Downloading\n",
      "│   source = http://s3-us-gov-west-1.amazonaws.com/cg-d4b776d0-d898-4153-90c8-8336f86bdfec/2018/VA-2018.zip\n",
      "│   dest = /Users/christownsend/projects/julia-cde/2018/VA-2018.zip\n",
      "│   progress = 0.75\n",
      "│   time_taken = 3.0 s\n",
      "│   time_remaining = 1.0 s\n",
      "│   average_speed = 8.459 MiB/s\n",
      "│   downloaded = 25.402 MiB\n",
      "│   remaining = 8.469 MiB\n",
      "│   total = 33.871 MiB\n",
      "└ @ HTTP /Users/christownsend/.julia/packages/HTTP/atT5q/src/download.jl:119\n"
     ]
    },
    {
     "name": "stdout",
     "output_type": "stream",
     "text": [
      "Archive:  /Users/christownsend/projects/julia-cde/2018/VA-2018.zip\n",
      "  inflating: VA/agencies.csv         \n",
      "  inflating: VA/NIBRS_ACTIVITY_TYPE.csv  \n",
      "  inflating: VA/NIBRS_AGE.csv        \n",
      "  inflating: VA/NIBRS_ARREST_TYPE.csv  \n",
      "  inflating: VA/NIBRS_ARRESTEE.csv   "
     ]
    },
    {
     "name": "stderr",
     "output_type": "stream",
     "text": [
      "┌ Info: Downloading\n",
      "│   source = http://s3-us-gov-west-1.amazonaws.com/cg-d4b776d0-d898-4153-90c8-8336f86bdfec/2018/VA-2018.zip\n",
      "│   dest = /Users/christownsend/projects/julia-cde/2018/VA-2018.zip\n",
      "│   progress = 0.9986\n",
      "│   time_taken = 4.0 s\n",
      "│   time_remaining = 0.01 s\n",
      "│   average_speed = 8.447 MiB/s\n",
      "│   downloaded = 33.823 MiB\n",
      "│   remaining = 49.533 KiB\n",
      "│   total = 33.871 MiB\n",
      "└ @ HTTP /Users/christownsend/.julia/packages/HTTP/atT5q/src/download.jl:119\n",
      "┌ Info: Downloading\n",
      "│   source = http://s3-us-gov-west-1.amazonaws.com/cg-d4b776d0-d898-4153-90c8-8336f86bdfec/2018/VA-2018.zip\n",
      "│   dest = /Users/christownsend/projects/julia-cde/2018/VA-2018.zip\n",
      "│   progress = 1.0\n",
      "│   time_taken = 4.01 s\n",
      "│   time_remaining = 0.0 s\n",
      "│   average_speed = 8.436 MiB/s\n",
      "│   downloaded = 33.871 MiB\n",
      "│   remaining = 0 bytes\n",
      "│   total = 33.871 MiB\n",
      "└ @ HTTP /Users/christownsend/.julia/packages/HTTP/atT5q/src/download.jl:119\n"
     ]
    },
    {
     "name": "stdout",
     "output_type": "stream",
     "text": [
      "\n",
      "  inflating: VA/NIBRS_ARRESTEE_WEAPON.csv  \n",
      "  inflating: VA/NIBRS_ASSIGNMENT_TYPE.csv  \n",
      "  inflating: VA/NIBRS_BIAS_LIST.csv  \n",
      "  inflating: VA/NIBRS_BIAS_MOTIVATION.csv  \n",
      "  inflating: VA/NIBRS_CIRCUMSTANCES.csv  \n",
      "  inflating: VA/NIBRS_CLEARED_EXCEPT.csv  \n",
      "  inflating: VA/NIBRS_CRIMINAL_ACT.csv  \n",
      "  inflating: VA/NIBRS_CRIMINAL_ACT_TYPE.csv  \n",
      "  inflating: VA/NIBRS_DRUG_MEASURE_TYPE.csv  \n",
      "  inflating: VA/NIBRS_ETHNICITY.csv  \n",
      "  inflating: VA/NIBRS_incident.csv   \n",
      "  inflating: VA/NIBRS_INJURY.csv     \n",
      "  inflating: VA/NIBRS_JUSTIFIABLE_FORCE.csv  \n",
      "  inflating: VA/NIBRS_LOCATION_TYPE.csv  \n",
      "  inflating: VA/NIBRS_month.csv      \n",
      "  inflating: VA/NIBRS_OFFENDER.csv   \n",
      "  inflating: VA/NIBRS_OFFENSE.csv    \n",
      "  inflating: VA/NIBRS_OFFENSE_TYPE.csv  \n",
      "  inflating: VA/NIBRS_PROP_DESC_TYPE.csv  \n",
      "  inflating: VA/NIBRS_PROP_LOSS_TYPE.csv  \n",
      "  inflating: VA/NIBRS_PROPERTY.csv   \n",
      "  inflating: VA/NIBRS_PROPERTY_DESC.csv  \n",
      "  inflating: VA/NIBRS_RELATIONSHIP.csv  \n",
      "  inflating: VA/NIBRS_SUSPECT_USING.csv  \n",
      "  inflating: VA/NIBRS_SUSPECTED_DRUG.csv  \n",
      "  inflating: VA/NIBRS_SUSPECTED_DRUG_TYPE.csv  \n",
      "  inflating: VA/NIBRS_USING_LIST.csv  \n",
      "  inflating: VA/NIBRS_VICTIM.csv     \n",
      "  inflating: VA/NIBRS_VICTIM_CIRCUMSTANCES.csv  \n",
      "  inflating: VA/NIBRS_VICTIM_INJURY.csv  \n",
      "  inflating: VA/NIBRS_VICTIM_OFFENDER_REL.csv  \n",
      "  inflating: VA/NIBRS_VICTIM_OFFENSE.csv  \n",
      "  inflating: VA/NIBRS_VICTIM_TYPE.csv  \n",
      "  inflating: VA/NIBRS_WEAPON.csv     \n",
      "  inflating: VA/NIBRS_WEAPON_TYPE.csv  \n",
      "  inflating: VA/REF_RACE.csv         \n",
      "  inflating: VA/REF_STATE.csv        \n",
      "  inflating: VA/nibrs_diagram.pdf    \n",
      "  inflating: VA/postgres_load.sql    \n",
      "  inflating: VA/postgres_setup.sql   \n",
      "  inflating: VA/README.md            \n",
      "Archive:  /Users/christownsend/projects/julia-cde/2018/AL-2018.zip\n",
      "  inflating: AL/agencies.csv         \n",
      "  inflating: AL/NIBRS_ACTIVITY_TYPE.csv  \n",
      "  inflating: AL/NIBRS_AGE.csv        \n",
      "  inflating: AL/NIBRS_ARREST_TYPE.csv  \n",
      "  inflating: AL/NIBRS_ARRESTEE.csv   \n",
      "  inflating: AL/NIBRS_ARRESTEE_WEAPON.csv  \n",
      "  inflating: AL/NIBRS_ASSIGNMENT_TYPE.csv  \n",
      "  inflating: AL/NIBRS_BIAS_LIST.csv  \n",
      "  inflating: AL/NIBRS_BIAS_MOTIVATION.csv  \n",
      "  inflating: AL/NIBRS_CIRCUMSTANCES.csv  \n",
      "  inflating: AL/NIBRS_CLEARED_EXCEPT.csv  \n",
      "  inflating: AL/NIBRS_CRIMINAL_ACT.csv  \n",
      "  inflating: AL/NIBRS_CRIMINAL_ACT_TYPE.csv  \n",
      "  inflating: AL/NIBRS_DRUG_MEASURE_TYPE.csv  \n",
      "  inflating: AL/NIBRS_ETHNICITY.csv  \n",
      "  inflating: AL/NIBRS_incident.csv   \n",
      "  inflating: AL/NIBRS_INJURY.csv     \n",
      "  inflating: AL/NIBRS_JUSTIFIABLE_FORCE.csv  \n",
      "  inflating: AL/NIBRS_LOCATION_TYPE.csv  \n",
      "  inflating: AL/NIBRS_month.csv      \n",
      "  inflating: AL/NIBRS_OFFENDER.csv   \n",
      "  inflating: AL/NIBRS_OFFENSE.csv    \n",
      "  inflating: AL/NIBRS_OFFENSE_TYPE.csv  \n",
      "  inflating: AL/NIBRS_PROP_DESC_TYPE.csv  \n",
      "  inflating: AL/NIBRS_PROP_LOSS_TYPE.csv  \n",
      "  inflating: AL/NIBRS_PROPERTY.csv   \n",
      "  inflating: AL/NIBRS_PROPERTY_DESC.csv  \n",
      "  inflating: AL/NIBRS_RELATIONSHIP.csv  \n",
      "  inflating: AL/NIBRS_SUSPECT_USING.csv  \n",
      "  inflating: AL/NIBRS_SUSPECTED_DRUG.csv  \n",
      "  inflating: AL/NIBRS_SUSPECTED_DRUG_TYPE.csv  \n",
      "  inflating: AL/NIBRS_USING_LIST.csv  \n",
      "  inflating: AL/NIBRS_VICTIM.csv     \n",
      "  inflating: AL/NIBRS_VICTIM_CIRCUMSTANCES.csv  \n",
      "  inflating: AL/NIBRS_VICTIM_INJURY.csv  \n",
      "  inflating: AL/NIBRS_VICTIM_OFFENDER_REL.csv  \n",
      "  inflating: AL/NIBRS_VICTIM_OFFENSE.csv  \n",
      "  inflating: AL/NIBRS_VICTIM_TYPE.csv  \n",
      "  inflating: AL/NIBRS_WEAPON.csv     \n",
      "  inflating: AL/NIBRS_WEAPON_TYPE.csv  \n",
      "  inflating: AL/REF_RACE.csv         \n",
      "  inflating: AL/REF_STATE.csv        \n",
      "  inflating: AL/nibrs_diagram.pdf    \n",
      "  inflating: AL/postgres_load.sql    \n",
      "  inflating: AL/postgres_setup.sql   \n",
      "  inflating: AL/README.md            \n"
     ]
    },
    {
     "name": "stderr",
     "output_type": "stream",
     "text": [
      "┌ Info: Downloading\n",
      "│   source = http://s3-us-gov-west-1.amazonaws.com/cg-d4b776d0-d898-4153-90c8-8336f86bdfec/2018/AL-2018.zip\n",
      "│   dest = /Users/christownsend/projects/julia-cde/2018/AL-2018.zip\n",
      "│   progress = 1.0\n",
      "│   time_taken = 0.03 s\n",
      "│   time_remaining = 0.0 s\n",
      "│   average_speed = 9.174 MiB/s\n",
      "│   downloaded = 253.638 KiB\n",
      "│   remaining = 0 bytes\n",
      "│   total = 253.638 KiB\n",
      "└ @ HTTP /Users/christownsend/.julia/packages/HTTP/atT5q/src/download.jl:119\n"
     ]
    }
   ],
   "source": [
    "# Download the data from CDE\n",
    "current_dir = pwd()\n",
    "for year in years\n",
    "    for state in states\n",
    "        #http://s3-us-gov-west-1.amazonaws.com/cg-d4b776d0-d898-4153-90c8-8336f86bdfec/2018/WA-2018.zip\n",
    "        url = string(\"http://s3-us-gov-west-1.amazonaws.com/cg-d4b776d0-d898-4153-90c8-8336f86bdfec/\", year, \"/\", state, \"-\", year, \".zip\")\n",
    "        HTTP.download(url, string(pwd(), \"/\", year))\n",
    "        file = string(pwd(), \"/\", year, \"/\", state, \"-\", year, \".zip\")\n",
    "        cd(string(year))\n",
    "        run(`unzip $file`)\n",
    "        cd(current_dir)\n",
    "    end\n",
    "end"
   ]
  },
  {
   "cell_type": "code",
   "execution_count": 10,
   "metadata": {},
   "outputs": [
    {
     "data": {
      "text/plain": [
       "38-element Array{String,1}:\n",
       " \"NIBRS_ACTIVITY_TYPE.csv\"\n",
       " \"NIBRS_AGE.csv\"\n",
       " \"NIBRS_ARRESTEE.csv\"\n",
       " \"NIBRS_ARRESTEE_WEAPON.csv\"\n",
       " \"NIBRS_ARREST_TYPE.csv\"\n",
       " \"NIBRS_ASSIGNMENT_TYPE.csv\"\n",
       " \"NIBRS_BIAS_LIST.csv\"\n",
       " \"NIBRS_BIAS_MOTIVATION.csv\"\n",
       " \"NIBRS_CIRCUMSTANCES.csv\"\n",
       " \"NIBRS_CLEARED_EXCEPT.csv\"\n",
       " \"NIBRS_CRIMINAL_ACT.csv\"\n",
       " \"NIBRS_CRIMINAL_ACT_TYPE.csv\"\n",
       " \"NIBRS_DRUG_MEASURE_TYPE.csv\"\n",
       " ⋮\n",
       " \"NIBRS_USING_LIST.csv\"\n",
       " \"NIBRS_VICTIM.csv\"\n",
       " \"NIBRS_VICTIM_CIRCUMSTANCES.csv\"\n",
       " \"NIBRS_VICTIM_INJURY.csv\"\n",
       " \"NIBRS_VICTIM_OFFENDER_REL.csv\"\n",
       " \"NIBRS_VICTIM_OFFENSE.csv\"\n",
       " \"NIBRS_VICTIM_TYPE.csv\"\n",
       " \"NIBRS_WEAPON.csv\"\n",
       " \"NIBRS_WEAPON_TYPE.csv\"\n",
       " \"NIBRS_incident.csv\"\n",
       " \"REF_RACE.csv\"\n",
       " \"REF_STATE.csv\""
      ]
     },
     "execution_count": 10,
     "metadata": {},
     "output_type": "execute_result"
    }
   ],
   "source": [
    "files = readdir(string(years[1], \"/\", states[1]))\n",
    "csv_list = filter(file -> file[end - 3: end] == \".csv\" && (file in [\"NIBRS_PROPERTY_DESC.csv\", \"NIBRS_month.csv\", \"agencies.csv\", \"NIBRS_RELATIONSHIP.csv\"]) == false, files)"
   ]
  },
  {
   "cell_type": "code",
   "execution_count": 11,
   "metadata": {},
   "outputs": [
    {
     "name": "stdout",
     "output_type": "stream",
     "text": [
      "234906 milliseconds\n"
     ]
    }
   ],
   "source": [
    "start = Dates.now()\n",
    "# Loading all related CSVs into JuliaDB and saving as a binary file \n",
    "# This effectively unions all CSVs containing the same data for each state\n",
    "# into a JuliaDB table\n",
    "\n",
    "for csv_file in csv_list\n",
    "    #tbl_csvs = [string(state, \"/\", csv_file) for state in states] # want to load all the state CSVs into 1 table\n",
    "    tbl_csvs = Vector{String}()\n",
    "    for state in states\n",
    "        for year in years\n",
    "            push!(tbl_csvs, string(year, \"/\", state, \"/\", csv_file))\n",
    "        end\n",
    "    end\n",
    "    #println(tbl_csvs)\n",
    "    tbl = loadtable(tbl_csvs)\n",
    "\n",
    "    index_cols = filter((col) -> contains(string(col), \"_ID\") || contains(string(col), \"DATA_YEAR\"), JuliaDB.colnames(tbl))\n",
    "    bin_file_path = replace(csv_file, \".csv\" => \".bin\")\n",
    "    if (:DATA_YEAR in index_cols) == false && isfile(bin_file_path) == false\n",
    "        # load a single state's worth of data as it is the same for all states\n",
    "        tbl = loadtable(string(years[1], \"/\", states[1], \"/\", csv_file))\n",
    "    end\n",
    "    save(tbl, bin_file_path)\n",
    "    #if length(index_cols) > 0\n",
    "    #    tbl = reindex(tbl, index_cols)\n",
    "    #end    \n",
    "    \n",
    "end\n",
    "println(Dates.now() - start)"
   ]
  },
  {
   "cell_type": "code",
   "execution_count": 12,
   "metadata": {},
   "outputs": [
    {
     "data": {
      "text/plain": [
       "Table with 4 rows, 3 columns:\n",
       "ETHNICITY_ID  ETHNICITY_CODE  ETHNICITY_NAME\n",
       "──────────────────────────────────────────────────────\n",
       "4             \"M\"             \"Multiple\"\n",
       "1             \"H\"             \"Hispanic or Latino\"\n",
       "2             \"N\"             \"Not Hispanic or Latino\"\n",
       "3             \"U\"             \"Unknown\""
      ]
     },
     "execution_count": 12,
     "metadata": {},
     "output_type": "execute_result"
    }
   ],
   "source": [
    "eth = load(\"NIBRS_ETHNICITY.bin\")"
   ]
  },
  {
   "cell_type": "code",
   "execution_count": 13,
   "metadata": {},
   "outputs": [
    {
     "data": {
      "text/plain": [
       "Table with 4 rows, 2 columns:\n",
       "ETHNICITY_ID  ETHNICITY_NAME\n",
       "──────────────────────────────────────\n",
       "4             \"Multiple\"\n",
       "1             \"Hispanic or Latino\"\n",
       "2             \"Not Hispanic or Latino\"\n",
       "3             \"Unknown\""
      ]
     },
     "execution_count": 13,
     "metadata": {},
     "output_type": "execute_result"
    }
   ],
   "source": [
    "select(eth, (:ETHNICITY_ID, :ETHNICITY_NAME))"
   ]
  },
  {
   "cell_type": "code",
   "execution_count": 16,
   "metadata": {},
   "outputs": [
    {
     "data": {
      "text/plain": [
       "Table with 425372 rows, 18 columns:\n",
       "Columns:\n",
       "\u001b[1m#   \u001b[22m\u001b[1mcolname                    \u001b[22m\u001b[1mtype\u001b[22m\n",
       "────────────────────────────────────────────────────\n",
       "1   DATA_YEAR                  Int64\n",
       "2   ARRESTEE_ID                Int64\n",
       "3   INCIDENT_ID                Int64\n",
       "4   ARRESTEE_SEQ_NUM           Int64\n",
       "5   ARREST_DATE                String\n",
       "6   ARREST_TYPE_ID             Int64\n",
       "7   MULTIPLE_INDICATOR         String\n",
       "8   OFFENSE_TYPE_ID            Int64\n",
       "9   AGE_ID                     Int64\n",
       "10  AGE_NUM                    Union{Missing, Int64}\n",
       "11  SEX_CODE                   String\n",
       "12  RACE_ID                    Int64\n",
       "13  ETHNICITY_ID               Union{Missing, Int64}\n",
       "14  RESIDENT_CODE              String\n",
       "15  UNDER_18_DISPOSITION_CODE  String\n",
       "16  CLEARANCE_IND              String\n",
       "17  AGE_RANGE_LOW_NUM          Union{Missing, Int64}\n",
       "18  AGE_RANGE_HIGH_NUM         Union{Missing, Int64}"
      ]
     },
     "execution_count": 16,
     "metadata": {},
     "output_type": "execute_result"
    }
   ],
   "source": [
    "arresstee = load(\"NIBRS_ARRESTEE.bin\")"
   ]
  },
  {
   "cell_type": "code",
   "execution_count": 18,
   "metadata": {},
   "outputs": [
    {
     "data": {
      "text/plain": [
       "Table with 3 rows, 2 columns:\n",
       "\u001b[1mDATA_YEAR  \u001b[22m#62\n",
       "──────────────────\n",
       "2016       30.4067\n",
       "2017       30.5236\n",
       "2018       31.022"
      ]
     },
     "execution_count": 18,
     "metadata": {},
     "output_type": "execute_result"
    }
   ],
   "source": [
    "using Statistics\n",
    "groupby(mean ∘ skipmissing, arresstee, :DATA_YEAR, select = :AGE_NUM)"
   ]
  },
  {
   "cell_type": "code",
   "execution_count": 19,
   "metadata": {},
   "outputs": [
    {
     "data": {
      "text/plain": [
       "Table with 3 rows, 4 columns:\n",
       "\u001b[1mDATA_YEAR  \u001b[22mmin  max  _mean\n",
       "────────────────────────────\n",
       "2016       2    98   30.4067\n",
       "2017       1    92   30.5236\n",
       "2018       3    95   31.022"
      ]
     },
     "execution_count": 19,
     "metadata": {},
     "output_type": "execute_result"
    }
   ],
   "source": [
    "summarize((min = minimum∘skipmissing, max = maximum∘skipmissing, _mean = mean∘skipmissing), arresstee, :DATA_YEAR, select = :AGE_NUM)"
   ]
  },
  {
   "cell_type": "code",
   "execution_count": 20,
   "metadata": {},
   "outputs": [
    {
     "data": {
      "text/plain": [
       "Table with 4 rows, 3 columns:\n",
       "ETHNICITY_ID  ETHNICITY_CODE  ETHNICITY_NAME\n",
       "──────────────────────────────────────────────────────\n",
       "4             \"M\"             \"Multiple\"\n",
       "1             \"H\"             \"Hispanic or Latino\"\n",
       "2             \"N\"             \"Not Hispanic or Latino\"\n",
       "3             \"U\"             \"Unknown\""
      ]
     },
     "execution_count": 20,
     "metadata": {},
     "output_type": "execute_result"
    }
   ],
   "source": [
    "eth"
   ]
  },
  {
   "cell_type": "code",
   "execution_count": null,
   "metadata": {},
   "outputs": [],
   "source": []
  }
 ],
 "metadata": {
  "kernelspec": {
   "display_name": "Julia 1.5.0",
   "language": "julia",
   "name": "julia-1.5"
  },
  "language_info": {
   "file_extension": ".jl",
   "mimetype": "application/julia",
   "name": "julia",
   "version": "1.5.0"
  }
 },
 "nbformat": 4,
 "nbformat_minor": 4
}
